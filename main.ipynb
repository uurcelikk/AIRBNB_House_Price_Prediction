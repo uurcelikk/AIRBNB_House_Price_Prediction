{
 "cells": [
  {
   "cell_type": "markdown",
   "metadata": {
    "tags": []
   },
   "source": [
    "##### ReadME infos about homework : \n",
    " **Airbnb House Price Prediction Project** In this project, we will develop a machine learning model to predict the prices of houses listed on Airbnb. \n",
    "#### Data Information: \n",
    " * **Data Set:** House listings collected from Airbnb \n",
    " * **Variables:** Price, number of rooms, number of bathrooms, location, number of guests, number of reviews, rating, house type, etc.\n",
    "#### EDA & Data Preprocessing:  \n",
    "* We will explore the data and process missing data. \n",
    "*We will visualise the data and examine relationships and trends. \n",
    "* We will apply data normalisation and transformation if necessary.\n",
    "#### Feature Engineering:  \n",
    "* We will try to improve the performance of our model by deriving new features. \n",
    "* For example, we can add neighbourhood features using location information. \n",
    "#### Model Training:\n",
    "* We will train different machine learning models and select the best performing model.\n",
    "* We will optimise the model hyperparameters. \n",
    "#### Model Evaluation: \n",
    "* We will evaluate our model on test data and measure the prediction accuracy. \n",
    "* We will analyse the performance of the model using different metrics.\n",
    " \n",
    " \n",
    "**Table of Content**\n",
    "1. **Data Information:**\n",
    "2. **EDA & Data Preprocessing:**\n",
    "3. **Feature Engineering:**\n",
    "4. **Model Training:**\n",
    "5. **Model Evaluation:**\n"
   ]
  },
  {
   "cell_type": "markdown",
   "metadata": {
    "tags": []
   },
   "source": [
    "# Importing Library"
   ]
  },
  {
   "cell_type": "code",
   "execution_count": null,
   "metadata": {
    "tags": []
   },
   "outputs": [
    {
     "ename": "",
     "evalue": "",
     "output_type": "error",
     "traceback": [
      "\u001b[1;31mThe kernel failed to start due to the missing module 'packaging'. Consider installing this module.\n",
      "\u001b[1;31mClick <a href='https://aka.ms/kernelFailuresMissingModule'>here</a> for more info."
     ]
    }
   ],
   "source": [
    "import numpy as np\n",
    "import pandas as pd\n",
    "import matplotlib.pyplot as plt\n",
    "import seaborn as sns\n",
    "\n",
    "from sklearn.model_selection import train_test_split\n",
    "from sklearn.linear_model import LinearRegression\n",
    "from sklearn.metrics import mean_squared_error\n",
    "from xgboost import XGBRegressor\n"
   ]
  },
  {
   "cell_type": "markdown",
   "metadata": {},
   "source": [
    "# Data Information\n",
    "\n"
   ]
  },
  {
   "cell_type": "markdown",
   "metadata": {
    "tags": []
   },
   "source": [
    "**Additional Features**\n",
    "The website data was reviewed, and additional data was included. This allowed for the extraction of extra features to be checked. The analysis showed that extra feature data was included. For more information, you can refer to this website: [https://insideairbnb.com/get-the-data](https://insideairbnb.com/get-the-data)\n",
    "\n",
    "**Data Dict**\n",
    "\n",
    "- 'id': Unique identifier for the listing.\n",
    "- 'host_id': Unique identifier for the host.\n",
    "- 'host_name': Name of the host.\n",
    "- 'host_about': Description or bio of the host.\n",
    "- 'host_response_time': Time taken by the host to respond to inquiries.\n",
    "- 'host_response_rate': Percentage of inquiries to which the host responds.\n",
    "- 'host_acceptance_rate': Percentage of booking requests accepted by the host.\n",
    "- 'host_verifications': Types of verifications the host has undergone (e.g., email, phone, government ID, etc.).\n",
    "- 'neighbourhood_cleansed': The neighbourhood group as geocoded using the latitude and longitude against neighborhoods.\n",
    "- 'property_type': Self-selected property type. Hotels and Bed and Breakfasts are described as such by their hosts in this field.\n",
    "- 'room_type': The type of room available for booking.\n",
    "- 'accommodates': The maximum capacity of the listing.\n",
    "- 'bathrooms_text': The textual description of the number of bathrooms in the listing.\n",
    "- 'beds': The number of bed(s) in the listing.\n",
    "- 'price': The daily price in the local currency.\n",
    "- 'number_of_reviews': The number of reviews the listing has.\n",
    "- 'review_scores_rating': The overall rating score given by guests in reviews.\n",
    "- 'review_scores_accuracy': The rating score for accuracy given by guests in reviews.\n",
    "- 'review_scores_cleanliness': The rating score for cleanliness given by guests in reviews.\n",
    "- 'review_scores_checkin': The rating score for check-in experience given by guests in reviews.\n",
    "- 'review_scores_communication': The rating score for communication given by guests in reviews.\n",
    "- 'review_scores_location': The rating score for location given by guests in reviews.\n",
    "- 'review_scores_value': The rating score for value given by guests in reviews.\n",
    "\n",
    "In Extra Data\n",
    "- 'latitude': Uses the World Geodetic System (WGS84) projection for latitude and longitude.\n",
    "- 'longitude': Uses the World Geodetic System (WGS84) projection for latitude and longitude.\n",
    "- 'avaliability_365: avaliability_x. The availability of the listing x days in the future as determined by the calendar. Note a listing may not be available because it has been booked by a guest or blocked by the host.\n",
    "\n"
   ]
  },
  {
   "cell_type": "markdown",
   "metadata": {},
   "source": [
    "## Exploring Airbnb House Price Prediction Data\n",
    "\n",
    "In this section, we will explore the data used for our Airbnb house price prediction project.\n",
    "\n",
    "- The `data.head()` command shows the first 5 rows of the dataset. This allows us to see the general structure of the dataset and which columns are present.\n",
    "\n",
    "- The `data.info()` command provides more detailed information about the dataset, including:\n",
    "  - The data type of each column\n",
    "  - The number of missing values in each column\n",
    "  - The minimum, maximum, mean, and standard deviation of each column\n",
    "\n",
    "- The `data.shape()` command gives the dimensions (number of rows and columns) of the dataset.\n"
   ]
  },
  {
   "cell_type": "code",
   "execution_count": null,
   "metadata": {},
   "outputs": [
    {
     "ename": "",
     "evalue": "",
     "output_type": "error",
     "traceback": [
      "\u001b[1;31mThe kernel failed to start due to the missing module 'packaging'. Consider installing this module.\n",
      "\u001b[1;31mClick <a href='https://aka.ms/kernelFailuresMissingModule'>here</a> for more info."
     ]
    }
   ],
   "source": []
  },
  {
   "cell_type": "code",
   "execution_count": null,
   "metadata": {
    "collapsed": true,
    "jupyter": {
     "outputs_hidden": true
    },
    "tags": []
   },
   "outputs": [
    {
     "ename": "",
     "evalue": "",
     "output_type": "error",
     "traceback": [
      "\u001b[1;31mThe kernel failed to start due to the missing module 'packaging'. Consider installing this module.\n",
      "\u001b[1;31mClick <a href='https://aka.ms/kernelFailuresMissingModule'>here</a> for more info."
     ]
    }
   ],
   "source": [
    "data = pd.read_csv(\"data.csv\")\n",
    "data.head()"
   ]
  },
  {
   "cell_type": "code",
   "execution_count": null,
   "metadata": {
    "collapsed": true,
    "jupyter": {
     "outputs_hidden": true
    },
    "tags": []
   },
   "outputs": [
    {
     "ename": "",
     "evalue": "",
     "output_type": "error",
     "traceback": [
      "\u001b[1;31mThe kernel failed to start due to the missing module 'packaging'. Consider installing this module.\n",
      "\u001b[1;31mClick <a href='https://aka.ms/kernelFailuresMissingModule'>here</a> for more info."
     ]
    }
   ],
   "source": [
    "data.info()\n",
    "data.shape"
   ]
  },
  {
   "cell_type": "code",
   "execution_count": null,
   "metadata": {
    "collapsed": true,
    "jupyter": {
     "outputs_hidden": true
    },
    "tags": []
   },
   "outputs": [
    {
     "ename": "",
     "evalue": "",
     "output_type": "error",
     "traceback": [
      "\u001b[1;31mThe kernel failed to start due to the missing module 'packaging'. Consider installing this module.\n",
      "\u001b[1;31mClick <a href='https://aka.ms/kernelFailuresMissingModule'>here</a> for more info."
     ]
    }
   ],
   "source": [
    "data.describe()"
   ]
  },
  {
   "cell_type": "code",
   "execution_count": null,
   "metadata": {
    "collapsed": true,
    "jupyter": {
     "outputs_hidden": true
    },
    "tags": []
   },
   "outputs": [
    {
     "ename": "",
     "evalue": "",
     "output_type": "error",
     "traceback": [
      "\u001b[1;31mThe kernel failed to start due to the missing module 'packaging'. Consider installing this module.\n",
      "\u001b[1;31mClick <a href='https://aka.ms/kernelFailuresMissingModule'>here</a> for more info."
     ]
    }
   ],
   "source": [
    "extra_data = pd.read_csv(\"listings.csv\")\n",
    "extra_data.head()"
   ]
  },
  {
   "cell_type": "code",
   "execution_count": null,
   "metadata": {
    "tags": []
   },
   "outputs": [
    {
     "ename": "",
     "evalue": "",
     "output_type": "error",
     "traceback": [
      "\u001b[1;31mThe kernel failed to start due to the missing module 'packaging'. Consider installing this module.\n",
      "\u001b[1;31mClick <a href='https://aka.ms/kernelFailuresMissingModule'>here</a> for more info."
     ]
    }
   ],
   "source": [
    "extra_data.info()\n",
    "extra_data.shape"
   ]
  },
  {
   "cell_type": "markdown",
   "metadata": {},
   "source": [
    "# EDA & Data Prepocessing"
   ]
  },
  {
   "cell_type": "markdown",
   "metadata": {},
   "source": [
    "## Data Processing and Feature Selection\n",
    "\n",
    "First, we drop non-numerical ('object' dtype) columns as they may not be directly useful for price prediction.\n",
    "\n",
    "Next, we calculate the correlations between the remaining columns and visualize a correlation matrix. We will focus on features that show high correlation with the price.\n",
    "\n",
    "Based on the correlation matrix and domain expertise, we select a subset of features that could be useful. In the example, the following features are selected:\n",
    "- `latitude`: Latitude - location information\n",
    "- `longitude`: Longitude - location information\n",
    "- `availability_365`: Availability of listings throughout the year\n",
    "\n",
    "### Merging Datasets\n",
    "\n",
    "Now we can merge our main dataset (`data`) with this selected extra data (`extra`). This is usually done via a common column (e.g., listing ID) using 'join'-like functions.\n"
   ]
  },
  {
   "cell_type": "code",
   "execution_count": null,
   "metadata": {
    "tags": []
   },
   "outputs": [
    {
     "ename": "",
     "evalue": "",
     "output_type": "error",
     "traceback": [
      "\u001b[1;31mThe kernel failed to start due to the missing module 'packaging'. Consider installing this module.\n",
      "\u001b[1;31mClick <a href='https://aka.ms/kernelFailuresMissingModule'>here</a> for more info."
     ]
    }
   ],
   "source": [
    "\n",
    "#First, we drop non-numerical ('object' dtype) columns. These columns may not be directly useful for price prediction.\n",
    "object_columns = extra_data.select_dtypes(include=[\"object\"]).columns\n",
    "extra_data = extra_data.drop(columns=object_columns)\n",
    "corr_matrix = extra_data.corr()\n",
    "\n",
    "plt.figure(figsize=(8, 6))\n",
    "sns.heatmap(corr_matrix, annot=True, cmap=\"coolwarm\", fmt=\".2f\")\n",
    "plt.title(\"Korelasyon Matrisi\")\n",
    "plt.show()"
   ]
  },
  {
   "cell_type": "code",
   "execution_count": null,
   "metadata": {
    "tags": []
   },
   "outputs": [
    {
     "ename": "",
     "evalue": "",
     "output_type": "error",
     "traceback": [
      "\u001b[1;31mThe kernel failed to start due to the missing module 'packaging'. Consider installing this module.\n",
      "\u001b[1;31mClick <a href='https://aka.ms/kernelFailuresMissingModule'>here</a> for more info."
     ]
    }
   ],
   "source": [
    "#could be useful feature\n",
    "extra = extra_data[['latitude', 'longitude', 'availability_365']]\n",
    "extra"
   ]
  },
  {
   "cell_type": "code",
   "execution_count": null,
   "metadata": {
    "tags": []
   },
   "outputs": [
    {
     "ename": "",
     "evalue": "",
     "output_type": "error",
     "traceback": [
      "\u001b[1;31mThe kernel failed to start due to the missing module 'packaging'. Consider installing this module.\n",
      "\u001b[1;31mClick <a href='https://aka.ms/kernelFailuresMissingModule'>here</a> for more info."
     ]
    }
   ],
   "source": [
    "index = [\n",
    "    \"latitude\", \"longitude\", \"availability_365\"]\n",
    "for column in index:\n",
    "    print(extra[column].value_counts(), \"\\n---------------------------------------------------------------\")\n"
   ]
  },
  {
   "cell_type": "markdown",
   "metadata": {},
   "source": [
    "availability_365  is looking more useful."
   ]
  },
  {
   "cell_type": "markdown",
   "metadata": {},
   "source": [
    "##### Data Cleaning and Preprocessing\n",
    "\n",
    "The purpose of the code is to clean and preprocess specific columns in a dataset (`data`) using regular expressions (`re` module) and lambda functions. It performs the following operations:\n",
    "\n",
    "- Extracts the numerical value from the \"bathrooms_text\" column and assigns it to the same column.\n",
    "- Converts the \"price\" column values to float by removing dollar signs, commas, and whitespace.\n",
    "- Converts the \"host_response_rate\" column values to float by removing percentage signs, commas, and whitespace.\n",
    "- Converts the \"host_acceptance_rate\" column values to float by removing percentage signs, commas, and whitespace.\n"
   ]
  },
  {
   "cell_type": "code",
   "execution_count": null,
   "metadata": {
    "tags": []
   },
   "outputs": [
    {
     "ename": "",
     "evalue": "",
     "output_type": "error",
     "traceback": [
      "\u001b[1;31mThe kernel failed to start due to the missing module 'packaging'. Consider installing this module.\n",
      "\u001b[1;31mClick <a href='https://aka.ms/kernelFailuresMissingModule'>here</a> for more info."
     ]
    }
   ],
   "source": [
    "import re\n",
    "data[\"bathrooms_text\"] = data[\"bathrooms_text\"].apply(lambda text: re.findall(r'\\d+', str(text))[0] if len(re.findall(r'\\d+', str(text))) else None)\n",
    "data[\"price\"] = data[\"price\"].apply(lambda text: float(str(text).replace(\"$\",\"\").replace(\",\",\"\").strip()))\n",
    "data[\"host_response_rate\"] = data[\"host_response_rate\"].apply(lambda text: float(str(text).replace(\"%\",\"\").replace(\",\",\"\").strip()))\n",
    "data[\"host_acceptance_rate\"] = data[\"host_acceptance_rate\"].apply(lambda text: float(str(text).replace(\"%\",\"\").replace(\",\",\"\").strip()))"
   ]
  },
  {
   "cell_type": "code",
   "execution_count": null,
   "metadata": {
    "tags": []
   },
   "outputs": [
    {
     "ename": "",
     "evalue": "",
     "output_type": "error",
     "traceback": [
      "\u001b[1;31mThe kernel failed to start due to the missing module 'packaging'. Consider installing this module.\n",
      "\u001b[1;31mClick <a href='https://aka.ms/kernelFailuresMissingModule'>here</a> for more info."
     ]
    }
   ],
   "source": [
    "df = pd.DataFrame(data = data)\n",
    "df[\"availability_365\"] = extra_data[\"availability_365\"]\n",
    "df.head()"
   ]
  },
  {
   "cell_type": "code",
   "execution_count": null,
   "metadata": {
    "tags": []
   },
   "outputs": [
    {
     "ename": "",
     "evalue": "",
     "output_type": "error",
     "traceback": [
      "\u001b[1;31mThe kernel failed to start due to the missing module 'packaging'. Consider installing this module.\n",
      "\u001b[1;31mClick <a href='https://aka.ms/kernelFailuresMissingModule'>here</a> for more info."
     ]
    }
   ],
   "source": [
    "df.dtypes"
   ]
  },
  {
   "cell_type": "code",
   "execution_count": null,
   "metadata": {
    "tags": []
   },
   "outputs": [
    {
     "ename": "",
     "evalue": "",
     "output_type": "error",
     "traceback": [
      "\u001b[1;31mThe kernel failed to start due to the missing module 'packaging'. Consider installing this module.\n",
      "\u001b[1;31mClick <a href='https://aka.ms/kernelFailuresMissingModule'>here</a> for more info."
     ]
    }
   ],
   "source": [
    "#Distirbution of Price\n",
    "\n",
    "print(df[\"price\"].value_counts())\n",
    "plt.figure(figsize=(10, 8))\n",
    "sns.kdeplot(df[\"price\"], fill=True, color=\"b\")\n",
    "plt.xlabel('Price')\n",
    "plt.ylabel('Density')\n",
    "plt.title('Price Distribution (KDE)')\n",
    "plt.show()\n"
   ]
  },
  {
   "cell_type": "code",
   "execution_count": null,
   "metadata": {},
   "outputs": [
    {
     "ename": "",
     "evalue": "",
     "output_type": "error",
     "traceback": [
      "\u001b[1;31mThe kernel failed to start due to the missing module 'packaging'. Consider installing this module.\n",
      "\u001b[1;31mClick <a href='https://aka.ms/kernelFailuresMissingModule'>here</a> for more info."
     ]
    }
   ],
   "source": []
  },
  {
   "cell_type": "markdown",
   "metadata": {},
   "source": [
    "#### Numerical Features"
   ]
  },
  {
   "cell_type": "code",
   "execution_count": null,
   "metadata": {
    "tags": []
   },
   "outputs": [
    {
     "ename": "",
     "evalue": "",
     "output_type": "error",
     "traceback": [
      "\u001b[1;31mThe kernel failed to start due to the missing module 'packaging'. Consider installing this module.\n",
      "\u001b[1;31mClick <a href='https://aka.ms/kernelFailuresMissingModule'>here</a> for more info."
     ]
    }
   ],
   "source": [
    "list(set(df.dtypes.tolist()))"
   ]
  },
  {
   "cell_type": "code",
   "execution_count": null,
   "metadata": {
    "tags": []
   },
   "outputs": [
    {
     "ename": "",
     "evalue": "",
     "output_type": "error",
     "traceback": [
      "\u001b[1;31mThe kernel failed to start due to the missing module 'packaging'. Consider installing this module.\n",
      "\u001b[1;31mClick <a href='https://aka.ms/kernelFailuresMissingModule'>here</a> for more info."
     ]
    }
   ],
   "source": [
    "df_num = df.select_dtypes(include = ['float64', 'int64'])\n",
    "df_num.hist(figsize=(16, 20), bins=50, xlabelsize=8, ylabelsize=8);"
   ]
  },
  {
   "cell_type": "code",
   "execution_count": null,
   "metadata": {
    "tags": []
   },
   "outputs": [
    {
     "ename": "",
     "evalue": "",
     "output_type": "error",
     "traceback": [
      "\u001b[1;31mThe kernel failed to start due to the missing module 'packaging'. Consider installing this module.\n",
      "\u001b[1;31mClick <a href='https://aka.ms/kernelFailuresMissingModule'>here</a> for more info."
     ]
    }
   ],
   "source": [
    "\n",
    "## Numerical variables are usually of 2 type\n",
    "## Continous variable and Discrete Variables\n",
    "\n",
    "discrete_feature=[feature for feature in df_num if len(df[feature].unique())<25 ]\n",
    "print(discrete_feature)\n",
    "print(\"Discrete Variables Count: {}\".format(len(discrete_feature)))"
   ]
  },
  {
   "cell_type": "code",
   "execution_count": null,
   "metadata": {
    "tags": []
   },
   "outputs": [
    {
     "ename": "",
     "evalue": "",
     "output_type": "error",
     "traceback": [
      "\u001b[1;31mThe kernel failed to start due to the missing module 'packaging'. Consider installing this module.\n",
      "\u001b[1;31mClick <a href='https://aka.ms/kernelFailuresMissingModule'>here</a> for more info."
     ]
    }
   ],
   "source": [
    "##  Find the realtionship between distcrete variables and Price\n",
    "\n",
    "for feature in discrete_feature:\n",
    "    data=df.copy()\n",
    "    data.groupby(feature)['price'].median().plot.bar()\n",
    "    plt.xlabel(feature)\n",
    "    plt.ylabel('Price')\n",
    "    plt.title(feature)\n",
    "    plt.show()"
   ]
  },
  {
   "cell_type": "markdown",
   "metadata": {},
   "source": [
    "#### Continous Variables"
   ]
  },
  {
   "cell_type": "code",
   "execution_count": null,
   "metadata": {
    "tags": []
   },
   "outputs": [
    {
     "ename": "",
     "evalue": "",
     "output_type": "error",
     "traceback": [
      "\u001b[1;31mThe kernel failed to start due to the missing module 'packaging'. Consider installing this module.\n",
      "\u001b[1;31mClick <a href='https://aka.ms/kernelFailuresMissingModule'>here</a> for more info."
     ]
    }
   ],
   "source": [
    "continuous_feature=[feature for feature in df_num if feature not in discrete_feature]\n",
    "print(\"Continuous feature Count {}\".format(len(continuous_feature)))"
   ]
  },
  {
   "cell_type": "code",
   "execution_count": null,
   "metadata": {
    "tags": []
   },
   "outputs": [
    {
     "ename": "",
     "evalue": "",
     "output_type": "error",
     "traceback": [
      "\u001b[1;31mThe kernel failed to start due to the missing module 'packaging'. Consider installing this module.\n",
      "\u001b[1;31mClick <a href='https://aka.ms/kernelFailuresMissingModule'>here</a> for more info."
     ]
    }
   ],
   "source": [
    "## analyse the continuous values by creating histograms to understand the distribution\n",
    "\n",
    "for feature in continuous_feature:\n",
    "    data=df.copy()\n",
    "    data[feature].hist(bins=25)\n",
    "    plt.xlabel(feature)\n",
    "    plt.ylabel(\"Count\")\n",
    "    plt.title(feature)\n",
    "    plt.show()"
   ]
  },
  {
   "cell_type": "markdown",
   "metadata": {},
   "source": [
    "#### Categorical Variables\n"
   ]
  },
  {
   "cell_type": "code",
   "execution_count": null,
   "metadata": {
    "tags": []
   },
   "outputs": [
    {
     "ename": "",
     "evalue": "",
     "output_type": "error",
     "traceback": [
      "\u001b[1;31mThe kernel failed to start due to the missing module 'packaging'. Consider installing this module.\n",
      "\u001b[1;31mClick <a href='https://aka.ms/kernelFailuresMissingModule'>here</a> for more info."
     ]
    }
   ],
   "source": [
    "df_cat = [col for col in df.columns if df[col].dtype == 'object']\n",
    "df_cat"
   ]
  },
  {
   "cell_type": "code",
   "execution_count": null,
   "metadata": {
    "tags": []
   },
   "outputs": [
    {
     "ename": "",
     "evalue": "",
     "output_type": "error",
     "traceback": [
      "\u001b[1;31mThe kernel failed to start due to the missing module 'packaging'. Consider installing this module.\n",
      "\u001b[1;31mClick <a href='https://aka.ms/kernelFailuresMissingModule'>here</a> for more info."
     ]
    }
   ],
   "source": [
    "\n",
    "features = ['room_type', 'neighbourhood_cleansed']\n",
    "\n",
    "\n",
    "for feature in features:\n",
    "    counts = df[feature].value_counts()\n",
    "    plt.figure(figsize=(10, 6))\n",
    "    sns.barplot(x=counts.index, y=counts.values)\n",
    "    plt.title(feature)\n",
    "    plt.xlabel(feature)\n",
    "    plt.ylabel('Count')\n",
    "    plt.xticks(rotation=90) \n",
    "    plt.show()"
   ]
  },
  {
   "cell_type": "code",
   "execution_count": null,
   "metadata": {
    "tags": []
   },
   "outputs": [
    {
     "ename": "",
     "evalue": "",
     "output_type": "error",
     "traceback": [
      "\u001b[1;31mThe kernel failed to start due to the missing module 'packaging'. Consider installing this module.\n",
      "\u001b[1;31mClick <a href='https://aka.ms/kernelFailuresMissingModule'>here</a> for more info."
     ]
    }
   ],
   "source": [
    "sns.set(style='darkgrid')\n",
    "plt.figure(figsize=(8, 8))\n",
    "sns.countplot(y='property_type', data=df, order=df['property_type'].value_counts().index, palette='pastel')\n",
    "plt.ylabel('Property Type', fontsize=20, weight='bold', color='black')\n",
    "plt.show() "
   ]
  },
  {
   "cell_type": "code",
   "execution_count": null,
   "metadata": {
    "tags": []
   },
   "outputs": [
    {
     "ename": "",
     "evalue": "",
     "output_type": "error",
     "traceback": [
      "\u001b[1;31mThe kernel failed to start due to the missing module 'packaging'. Consider installing this module.\n",
      "\u001b[1;31mClick <a href='https://aka.ms/kernelFailuresMissingModule'>here</a> for more info."
     ]
    }
   ],
   "source": [
    "import seaborn as sns\n",
    "features = ['room_type', 'neighbourhood_cleansed']\n",
    "\n",
    "\n",
    "for feature in features:\n",
    "    plt.figure(figsize=(10, 6))\n",
    "    sns.barplot(x=feature, y='price', data=df, estimator='mean')\n",
    "    plt.title(feature + ' and Price Relationship')\n",
    "    plt.xlabel(feature)\n",
    "    plt.ylabel(' Price')\n",
    "    plt.xticks(rotation=90)  \n",
    "    plt.show()"
   ]
  },
  {
   "cell_type": "code",
   "execution_count": null,
   "metadata": {
    "tags": []
   },
   "outputs": [
    {
     "ename": "",
     "evalue": "",
     "output_type": "error",
     "traceback": [
      "\u001b[1;31mThe kernel failed to start due to the missing module 'packaging'. Consider installing this module.\n",
      "\u001b[1;31mClick <a href='https://aka.ms/kernelFailuresMissingModule'>here</a> for more info."
     ]
    }
   ],
   "source": [
    "plt.figure(figsize=(12, 6))  \n",
    "bars = plt.bar(df['property_type'], df['price'], color='skyblue')\n",
    "\n",
    "plt.xlabel('Property Type', fontsize=12)\n",
    "plt.ylabel('Price ($)', fontsize=12)\n",
    "plt.title('Price by Property Type', fontsize=14)\n",
    "plt.xticks(rotation=90, ha='right', fontsize=10)  \n",
    "\n",
    "\n",
    "plt.subplots_adjust(bottom=0.3)\n",
    "\n",
    "\n",
    "plt.show()"
   ]
  },
  {
   "cell_type": "markdown",
   "metadata": {
    "tags": []
   },
   "source": [
    "# Feature Engineering"
   ]
  },
  {
   "cell_type": "code",
   "execution_count": null,
   "metadata": {
    "tags": []
   },
   "outputs": [
    {
     "ename": "",
     "evalue": "",
     "output_type": "error",
     "traceback": [
      "\u001b[1;31mThe kernel failed to start due to the missing module 'packaging'. Consider installing this module.\n",
      "\u001b[1;31mClick <a href='https://aka.ms/kernelFailuresMissingModule'>here</a> for more info."
     ]
    }
   ],
   "source": [
    "useless_features= ['id', 'host_id', 'host_name', 'host_about', 'host_verifications']\n",
    "df_main = df.drop(columns=[col for col in df.columns if col in useless_features])\n",
    "df_main.head()"
   ]
  },
  {
   "cell_type": "markdown",
   "metadata": {},
   "source": [
    "#### Handling Missing Values\n",
    "\n",
    "1. **Investigating the Quantity and Distribution of Missing Values:**\n",
    "   - Calculate the number and percentage of missing values for each feature.\n",
    "   - Analyze whether missing values are randomly distributed or follow a specific pattern.\n",
    "\n",
    "2. **Determining the Reasons for Missing Values:**\n",
    "   - Try to understand the reasons for missing values, such as data collection errors, incorrect data entry, or intentionally left blank fields.\n",
    "\n",
    "3. **Choosing Methods to Handle Missing Values:**\n",
    "   - **Delete Missing Values:** This method can be used when there are few missing values and they are randomly distributed.\n",
    "   - **Impute Missing Values:** Missing values can be estimated using methods such as mean, median, hot-deck imputation, etc.\n",
    "   - **Define Missing Values as a Category:** If missing values are believed to have a unique meaning, they can be defined as a new category.\n"
   ]
  },
  {
   "cell_type": "code",
   "execution_count": null,
   "metadata": {
    "tags": []
   },
   "outputs": [
    {
     "ename": "",
     "evalue": "",
     "output_type": "error",
     "traceback": [
      "\u001b[1;31mThe kernel failed to start due to the missing module 'packaging'. Consider installing this module.\n",
      "\u001b[1;31mClick <a href='https://aka.ms/kernelFailuresMissingModule'>here</a> for more info."
     ]
    }
   ],
   "source": [
    "df_main.isnull().sum()\n"
   ]
  },
  {
   "cell_type": "markdown",
   "metadata": {},
   "source": [
    "### Visualizing Impact of Missing Values on Price\n",
    "\n",
    "Create bar charts comparing the median prices of observations containing missing values for each feature with observations that do not contain missing values. This way, you can visually see the impact of missing values on price.\n",
    "\n",
    "\n",
    "\n",
    "\n",
    "\n"
   ]
  },
  {
   "cell_type": "code",
   "execution_count": null,
   "metadata": {
    "tags": []
   },
   "outputs": [
    {
     "ename": "",
     "evalue": "",
     "output_type": "error",
     "traceback": [
      "\u001b[1;31mThe kernel failed to start due to the missing module 'packaging'. Consider installing this module.\n",
      "\u001b[1;31mClick <a href='https://aka.ms/kernelFailuresMissingModule'>here</a> for more info."
     ]
    }
   ],
   "source": [
    "features_with_na=[features for features in df_main.columns if df_main[features].isnull().sum()>1]\n",
    "for feature in features_with_na:\n",
    "    print(\"{}: {}% missing values\".format(feature,np.round(df_main[feature].isnull().mean(),4)))"
   ]
  },
  {
   "cell_type": "code",
   "execution_count": null,
   "metadata": {
    "tags": []
   },
   "outputs": [
    {
     "ename": "",
     "evalue": "",
     "output_type": "error",
     "traceback": [
      "\u001b[1;31mThe kernel failed to start due to the missing module 'packaging'. Consider installing this module.\n",
      "\u001b[1;31mClick <a href='https://aka.ms/kernelFailuresMissingModule'>here</a> for more info."
     ]
    }
   ],
   "source": [
    "# For Categoric Variables\n",
    "features_nan=[feature for feature in df_main.columns if df_main[feature].isnull().sum()>1 and df_main[feature].dtypes=='O']\n",
    "def replace_cat_feature(dataset,features_nan):\n",
    "    data=df_main.copy()\n",
    "    data[features_nan]=data[features_nan].fillna('Missing')\n",
    "    return data\n",
    "\n",
    "df_main=replace_cat_feature(df_main,features_nan)\n",
    "\n",
    "df_main[features_nan].isnull().sum()"
   ]
  },
  {
   "cell_type": "code",
   "execution_count": null,
   "metadata": {
    "tags": []
   },
   "outputs": [
    {
     "ename": "",
     "evalue": "",
     "output_type": "error",
     "traceback": [
      "\u001b[1;31mThe kernel failed to start due to the missing module 'packaging'. Consider installing this module.\n",
      "\u001b[1;31mClick <a href='https://aka.ms/kernelFailuresMissingModule'>here</a> for more info."
     ]
    }
   ],
   "source": [
    "# For Numarical Varibles\n",
    "numerical_with_nan=[feature for feature in df_main.columns if df_main[feature].isnull().sum()>1 and df_main[feature].dtypes!='O']\n",
    "\n",
    "for feature in numerical_with_nan:\n",
    "    \n",
    "    median_value=df_main[feature].median()\n",
    "    \n",
    "    df_main[feature].fillna(median_value,inplace=True)\n",
    "    \n",
    "df_main[numerical_with_nan].isnull().sum()\n",
    "    "
   ]
  },
  {
   "cell_type": "code",
   "execution_count": null,
   "metadata": {
    "tags": []
   },
   "outputs": [
    {
     "ename": "",
     "evalue": "",
     "output_type": "error",
     "traceback": [
      "\u001b[1;31mThe kernel failed to start due to the missing module 'packaging'. Consider installing this module.\n",
      "\u001b[1;31mClick <a href='https://aka.ms/kernelFailuresMissingModule'>here</a> for more info."
     ]
    }
   ],
   "source": [
    "df_main.isnull().sum()"
   ]
  },
  {
   "cell_type": "code",
   "execution_count": null,
   "metadata": {
    "tags": []
   },
   "outputs": [
    {
     "ename": "",
     "evalue": "",
     "output_type": "error",
     "traceback": [
      "\u001b[1;31mThe kernel failed to start due to the missing module 'packaging'. Consider installing this module.\n",
      "\u001b[1;31mClick <a href='https://aka.ms/kernelFailuresMissingModule'>here</a> for more info."
     ]
    }
   ],
   "source": [
    "df_main.dtypes"
   ]
  },
  {
   "cell_type": "markdown",
   "metadata": {},
   "source": [
    "### Encoding Categorical Variables using Label Encoder\n",
    "\n",
    "The provided code segment demonstrates how to use the `LabelEncoder` from `sklearn.preprocessing` to encode categorical variables in a DataFrame (`df_main`).\n"
   ]
  },
  {
   "cell_type": "code",
   "execution_count": null,
   "metadata": {
    "tags": []
   },
   "outputs": [
    {
     "ename": "",
     "evalue": "",
     "output_type": "error",
     "traceback": [
      "\u001b[1;31mThe kernel failed to start due to the missing module 'packaging'. Consider installing this module.\n",
      "\u001b[1;31mClick <a href='https://aka.ms/kernelFailuresMissingModule'>here</a> for more info."
     ]
    }
   ],
   "source": [
    "from sklearn.preprocessing import LabelEncoder\n",
    "label_encoder = LabelEncoder()\n",
    "for column in df_main.columns:\n",
    "    if df_main[column].dtype == 'object': \n",
    "        df_main[column] = label_encoder.fit_transform(df_main[column])"
   ]
  },
  {
   "cell_type": "code",
   "execution_count": null,
   "metadata": {
    "tags": []
   },
   "outputs": [
    {
     "ename": "",
     "evalue": "",
     "output_type": "error",
     "traceback": [
      "\u001b[1;31mThe kernel failed to start due to the missing module 'packaging'. Consider installing this module.\n",
      "\u001b[1;31mClick <a href='https://aka.ms/kernelFailuresMissingModule'>here</a> for more info."
     ]
    }
   ],
   "source": [
    "df_main"
   ]
  },
  {
   "cell_type": "markdown",
   "metadata": {},
   "source": [
    "#### Feature Scaling\n",
    "######  Scaling Features using Min-Max Scaler\n",
    "\n",
    "The provided code snippet demonstrates how to scale features in a DataFrame (`df_main`) using Min-Max scaling with `MinMaxScaler` from `sklearn.preprocessing`.\n"
   ]
  },
  {
   "cell_type": "code",
   "execution_count": null,
   "metadata": {
    "tags": []
   },
   "outputs": [
    {
     "ename": "",
     "evalue": "",
     "output_type": "error",
     "traceback": [
      "\u001b[1;31mThe kernel failed to start due to the missing module 'packaging'. Consider installing this module.\n",
      "\u001b[1;31mClick <a href='https://aka.ms/kernelFailuresMissingModule'>here</a> for more info."
     ]
    }
   ],
   "source": [
    "feature_scale=[feature for feature in df_main.columns if feature not in ['price']]\n",
    "\n",
    "from sklearn.preprocessing import MinMaxScaler\n",
    "scaler=MinMaxScaler()\n",
    "scaler.fit(df_main[feature_scale])"
   ]
  },
  {
   "cell_type": "code",
   "execution_count": null,
   "metadata": {
    "tags": []
   },
   "outputs": [
    {
     "ename": "",
     "evalue": "",
     "output_type": "error",
     "traceback": [
      "\u001b[1;31mThe kernel failed to start due to the missing module 'packaging'. Consider installing this module.\n",
      "\u001b[1;31mClick <a href='https://aka.ms/kernelFailuresMissingModule'>here</a> for more info."
     ]
    }
   ],
   "source": [
    "scaler.transform(df_main[feature_scale])"
   ]
  },
  {
   "cell_type": "code",
   "execution_count": null,
   "metadata": {
    "tags": []
   },
   "outputs": [
    {
     "ename": "",
     "evalue": "",
     "output_type": "error",
     "traceback": [
      "\u001b[1;31mThe kernel failed to start due to the missing module 'packaging'. Consider installing this module.\n",
      "\u001b[1;31mClick <a href='https://aka.ms/kernelFailuresMissingModule'>here</a> for more info."
     ]
    }
   ],
   "source": [
    "df_main = pd.concat([df_main[['price']].reset_index(drop=True),\n",
    "                    pd.DataFrame(scaler.transform(df_main[feature_scale]), columns=feature_scale)],\n",
    "                    axis=1)\n",
    "df_main"
   ]
  },
  {
   "cell_type": "code",
   "execution_count": null,
   "metadata": {
    "tags": []
   },
   "outputs": [
    {
     "ename": "",
     "evalue": "",
     "output_type": "error",
     "traceback": [
      "\u001b[1;31mThe kernel failed to start due to the missing module 'packaging'. Consider installing this module.\n",
      "\u001b[1;31mClick <a href='https://aka.ms/kernelFailuresMissingModule'>here</a> for more info."
     ]
    }
   ],
   "source": [
    "y = df_main[\"price\"]\n",
    "X = df_main.drop(columns=[\"price\"])"
   ]
  },
  {
   "cell_type": "markdown",
   "metadata": {},
   "source": [
    "# Train Model"
   ]
  },
  {
   "cell_type": "markdown",
   "metadata": {},
   "source": [
    "### Brief Information About Algorithms\n",
    "\n",
    "**Linear Regression:**\n",
    "Linear regression is a simple regression model that attempts to predict a target variable using a linear combination of input features. It is used to model relationships that can be expressed with straight lines.\n",
    "\n",
    "**XGBoost (eXtreme Gradient Boosting):**\n",
    "XGBoost is an enhanced version of Gradient Boosting, which is a tree-based algorithm. It has achieved success in many data science competitions and has become popular. It can be used for regression and classification problems. One of the main advantages of XGBoost is its ability to better model complex relationships and interactions.\n",
    "\n",
    "**Why Choose These Algorithms:**\n",
    "\n",
    "- **Linear Regression:** We choose linear regression for its simplicity and interpretability. It works well when there is a linear relationship between features and the target variable, making it a good starting point for regression tasks.\n",
    "  \n",
    "- **XGBoost:** XGBoost is chosen for its excellent performance in handling complex relationships and high-dimensional datasets. It is particularly effective in capturing non-linear relationships and interactions between features, making it a powerful choice for regression and classification tasks in diverse datasets.\n",
    "\n",
    "These algorithms are selected based on their strengths and suitability for different types of relationships and data complexities encountered in predictive modeling tasks.\n"
   ]
  },
  {
   "cell_type": "code",
   "execution_count": null,
   "metadata": {
    "tags": []
   },
   "outputs": [
    {
     "ename": "",
     "evalue": "",
     "output_type": "error",
     "traceback": [
      "\u001b[1;31mThe kernel failed to start due to the missing module 'packaging'. Consider installing this module.\n",
      "\u001b[1;31mClick <a href='https://aka.ms/kernelFailuresMissingModule'>here</a> for more info."
     ]
    }
   ],
   "source": [
    "\n",
    "X_train, X_test, y_train, y_test = train_test_split(X, y, test_size=0.2, random_state=42)\n",
    "\n",
    "# Initialize and train the model\n",
    "model = LinearRegression()\n",
    "model.fit(X_train, y_train)\n",
    "\n",
    "model_xgb = XGBRegressor(objective='reg:squarederror')\n",
    "model_xgb.fit(X_train, y_train)"
   ]
  },
  {
   "cell_type": "markdown",
   "metadata": {},
   "source": [
    "\n",
    "# Evaluating Model Performance: Mean Squared Error (MSE)\n",
    "\n",
    "To assess the performance of a regression model, the Mean Squared Error (MSE) metric is commonly utilized. MSE quantifies the average squared difference between predicted values and actual values. Lower MSE values indicate superior model performance.\n",
    "\n",
    "The formula to compute MSE is as follows:\n",
    "\n",
    "MSE = (1/n) * Σ (yᵢ - ŷᵢ)²\n",
    "\n",
    "Here:\n",
    "- \\( n \\) represents the number of samples\n",
    "- \\( y_i \\) denotes the actual target value for the \\( i \\)th sample\n",
    "- \\( \\hat{y}_i \\) signifies the predicted target value for the \\( i \\)th sample\n",
    "\n",
    "Once you have obtained the predicted values from your regression model and have the corresponding actual target values, you can use the above formula to calculate the MSE and gauge the model's accuracy.\n",
    "\n",
    "\n"
   ]
  },
  {
   "cell_type": "code",
   "execution_count": null,
   "metadata": {
    "tags": []
   },
   "outputs": [
    {
     "ename": "",
     "evalue": "",
     "output_type": "error",
     "traceback": [
      "\u001b[1;31mThe kernel failed to start due to the missing module 'packaging'. Consider installing this module.\n",
      "\u001b[1;31mClick <a href='https://aka.ms/kernelFailuresMissingModule'>here</a> for more info."
     ]
    }
   ],
   "source": [
    "# Make predictions\n",
    "y_pred = model.predict(X_test)\n",
    "\n",
    "# Evaluate the model\n",
    "mse = mean_squared_error(y_test, y_pred)\n",
    "print(\"Mean Squared Error:\", mse)"
   ]
  },
  {
   "cell_type": "code",
   "execution_count": null,
   "metadata": {},
   "outputs": [
    {
     "ename": "",
     "evalue": "",
     "output_type": "error",
     "traceback": [
      "\u001b[1;31mThe kernel failed to start due to the missing module 'packaging'. Consider installing this module.\n",
      "\u001b[1;31mClick <a href='https://aka.ms/kernelFailuresMissingModule'>here</a> for more info."
     ]
    }
   ],
   "source": [
    "y_pred_xgb = model_xgb.predict(X_test)\n",
    "\n",
    "mse = mean_squared_error(y_test, y_pred_xgb)\n",
    "print(\"Mean Squared Error:\", mse)"
   ]
  }
 ],
 "metadata": {
  "kernelspec": {
   "display_name": "Python 3 (ipykernel)",
   "language": "python",
   "name": "python3"
  },
  "language_info": {
   "codemirror_mode": {
    "name": "ipython",
    "version": 3
   },
   "file_extension": ".py",
   "mimetype": "text/x-python",
   "name": "python",
   "nbconvert_exporter": "python",
   "pygments_lexer": "ipython3",
   "version": "3.11.4"
  }
 },
 "nbformat": 4,
 "nbformat_minor": 4
}
